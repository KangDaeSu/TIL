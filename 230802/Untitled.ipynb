{
 "cells": [
  {
   "cell_type": "code",
   "execution_count": null,
   "id": "ce5dcd83",
   "metadata": {},
   "outputs": [],
   "source": [
    "2차원 배열의 선언\n",
    " - 1차원 List를 묶어놓은 List\n",
    " - 2차원 이상의 다차원 List는 차원에 따라 Index를 선언\n",
    " - 선언 : 세로길이(행의 개수), 가로길이(열의 개수)를 필요로 함\n",
    " - Python 에서는 데이터 초기화를 통해 변수선언과 초기화가 가능함\n"
   ]
  },
  {
   "cell_type": "code",
   "execution_count": null,
   "id": "fb7c4e6a",
   "metadata": {},
   "outputs": [],
   "source": [
    "3 *3 행렬\n",
    "N = int(input)\n",
    "arr = [list(map(int, input().split()))] for _ in range(N)"
   ]
  },
  {
   "cell_type": "code",
   "execution_count": null,
   "id": "bea4b537",
   "metadata": {},
   "outputs": [],
   "source": [
    "배열 순회\n",
    " - n X m 배열의 n * m개의 모든 원소를 빠짐없이 조사하는 방법\n",
    "\n",
    "행 우선 순회\n",
    "for i in range(n): # i 행의 좌표\n",
    "    for j in range(m): # j열의 좌표\n",
    "        f(Array[i][j]) # 필요한 연산 수행\n",
    "\n",
    "열 우선 순회\n",
    "for j in range(n): # 열 고정\n",
    "    for i in range(m): # 행 바꿈\n",
    "        f(Array[i][j]) # 필요한 연산 수행\n",
    "\n",
    "지그재그 순회\n",
    "for i in range(n):\n",
    "    for j in range(m):\n",
    "        f(Array[i][j + (m-1-2*j) * (i % 2)]) # 필요한 연산 수행, (i % 2) => 짝수일때, 0을 보내서\n",
    "                                              # (m~)삭제 홀수일때 (m~) 출력하는 역할\n",
    "\n",
    "델타를 이용한 2차 배열 탐색\n",
    " - 한 좌표에서 4방향의 인접 배열 요소를 탐색하는 방법\n",
    "    \n",
    "arr[0....N-1][0....N-1] # NxN 배열\n",
    "di[] <- [0, 1, 0, -1]\n",
    "dj[] <- [1, 0, -1, 0]\n",
    "for i : 0 -> N-1:\n",
    "    for j : 0 -> N-1:\n",
    "        for k in range(4):\n",
    "            nj <- j + di[k] # 현재 위치 i 기준 \n",
    "            nj <- j + dj[k] # 현재 위치 j 기준\n",
    "            if 0 <= ni < N and 0 <= nj <= N: # 유요한 인덱스면\n",
    "                f(arr[ni][nj])\n"
   ]
  }
 ],
 "metadata": {
  "kernelspec": {
   "display_name": "Python 3 (ipykernel)",
   "language": "python",
   "name": "python3"
  },
  "language_info": {
   "codemirror_mode": {
    "name": "ipython",
    "version": 3
   },
   "file_extension": ".py",
   "mimetype": "text/x-python",
   "name": "python",
   "nbconvert_exporter": "python",
   "pygments_lexer": "ipython3",
   "version": "3.9.13"
  }
 },
 "nbformat": 4,
 "nbformat_minor": 5
}
