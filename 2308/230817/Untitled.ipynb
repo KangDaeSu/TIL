{
 "cells": [
  {
   "cell_type": "code",
   "execution_count": 11,
   "id": "7a800061",
   "metadata": {},
   "outputs": [
    {
     "name": "stdout",
     "output_type": "stream",
     "text": [
      "1\n",
      "2\n",
      "3\n"
     ]
    }
   ],
   "source": [
    "## Queue\n",
    "def enQ(data):\n",
    "    global rear\n",
    "#     if rear == Qsize-1:\n",
    "#         print('Q is Full')\n",
    "#     else:\n",
    "#         rear += 1\n",
    "#         Q[rear] = data\n",
    "    rear += 1\n",
    "    Q[rear] = data\n",
    "\n",
    "def deQ():\n",
    "    global front\n",
    "#     if front == rear:# 비어있으면\n",
    "#         print('큐가 비어있음')\n",
    "#         return -1\n",
    "#     else:\n",
    "#         front += 1\n",
    "#         return Q[front]\n",
    "    front += 1\n",
    "    return Q[front]\n",
    "Qsize = 3\n",
    "Q= [0] * Qsize\n",
    "rear = -1\n",
    "front = -1\n",
    "\n",
    "enQ(1)\n",
    "enQ(2)\n",
    "rear += 1 # endqueue(3)\n",
    "Q[rear] = 3\n",
    "\n",
    "while front != rear: # 큐가 비어 있지 않으면\n",
    "    front += 1\n",
    "    print(Q[front])\n",
    "\n",
    "# print(deQ())\n",
    "# print(deQ())\n",
    "# front += 1\n",
    "# tmp = Q[front]\n",
    "# print(deQ())\n",
    "# temp += 1\n",
    "# temp = Q[front]\n",
    "# print(deQ())"
   ]
  },
  {
   "cell_type": "code",
   "execution_count": 12,
   "id": "6d67164d",
   "metadata": {},
   "outputs": [
    {
     "name": "stdout",
     "output_type": "stream",
     "text": [
      "3\n",
      "2\n",
      "1\n"
     ]
    }
   ],
   "source": [
    "Q = []\n",
    "Q.append(1) # enqueue(1)\n",
    "Q.append(2)\n",
    "Q.append(3)\n",
    "print(Q.pop())\n",
    "print(Q.pop())\n",
    "print(Q.pop())"
   ]
  },
  {
   "cell_type": "code",
   "execution_count": null,
   "id": "1f956542",
   "metadata": {},
   "outputs": [],
   "source": [
    "# 공백상태 및 포화상태 검사 (isEmpty, isFull)\n",
    " - 공백상태 : front == rear\n",
    " - 포화상태 : rear == n-1(n : 배열의 크기, n-1 : 배열의 마지막 인덱스)"
   ]
  },
  {
   "cell_type": "code",
   "execution_count": null,
   "id": "79c64b78",
   "metadata": {},
   "outputs": [],
   "source": [
    "# 검색(Qpeek())\n",
    " - 가장 앞에 있는 원소를 검색하여 반환하는 연산\n",
    " - 현재 front의 한자리 뒤(front+1)에 있는 원소, 즉 큐의 첫 번째에 있는 원소를 반환"
   ]
  },
  {
   "cell_type": "code",
   "execution_count": null,
   "id": "835d75a9",
   "metadata": {},
   "outputs": [],
   "source": [
    "# 잘못된 포화상태 인식\n",
    " - 선형 큐를 이용하여 원소의 삽입과 삭제를 계속할 경우, 배열의 앞부분에 활용할 수 있는\n",
    "    공간이 있음에도 불구하고, rear = n-1인 상태 즉, 포화상태로 인식하여 더 이상의 삽입을\n",
    "    수행하지 않게 됨\n",
    "    \n",
    "# 해결 방법 1 (좋은 해결 방법이 아님)\n",
    " - 매 연산이 이루어질 때마다 저장된 원소들을 배열의 앞부분으로 모두 이동시킴\n",
    " - 원소 이동에 많은 시간이 소요되어 Queue의 효율성이 급격히 떨어짐\n",
    "\n",
    "# 해결 방법 2\n",
    " - 1차원 배열을 사용하되, 논리적으로는 배열의 처음과 끝이 연결되어 원형 형태의 큐를 이룬다고 가정하고 사용\n",
    " - 원형 큐의 논리적 구조\n",
    " # 초기 공백 상태\n",
    "    - front = rear =0\n",
    " # index의 순환\n",
    "    - front와 rear의 위치가 배열의 마지막 인덱스인 n-1를 가리킨 후, 그 다음에는 논리적 순환을 이루어\n",
    "    배열의 처음 인덱스인 0으로 이동해야 함\n",
    "    - 이를 위해 나머지 연산자 mod를 사용함\n",
    " # front 변수\n",
    "    - 공백 상태와 포화 상태 구분을 쉽게 하기 위해 front가 있는 자리는 사용하지 않고 항상 빈자리로 둠"
   ]
  },
  {
   "cell_type": "code",
   "execution_count": 27,
   "id": "beadbfd3",
   "metadata": {},
   "outputs": [
    {
     "name": "stdout",
     "output_type": "stream",
     "text": [
      "2\n",
      "3\n",
      "4\n",
      "5\n"
     ]
    }
   ],
   "source": [
    "# def enq(data):\n",
    "#     global rear\n",
    "#     if (rear+1) % cQsize == front:\n",
    "#         print('cQ is Full')\n",
    "#     else:\n",
    "#         rear = (rear+1) % cQsize\n",
    "#         cQ[rear] = data\n",
    "# def deq():\n",
    "#     global front\n",
    "#     front = (front+1) % cQsize\n",
    "#     return cQ[front]\n",
    "def enq(data):\n",
    "    global rear\n",
    "    global front\n",
    "    if (rear+1) % cQsize == front:\n",
    "        front = (front+1) % cQsize\n",
    "    rear = (rear+1) % cQsize\n",
    "    cQ[rear] = data\n",
    "    \n",
    "def deq():\n",
    "    global front\n",
    "    front = (front+1) % cQsize\n",
    "    return cQ[front-1]\n",
    "    \n",
    "cQsize = 4\n",
    "cQ = [0] *cQsize\n",
    "front = 0\n",
    "rear = 0\n",
    "\n",
    "enq(1)\n",
    "enq(2)\n",
    "enq(3)\n",
    "enq(4)\n",
    "enq(5)\n",
    "print(deq())\n",
    "print(deq())\n",
    "print(deq())\n",
    "print(deq())"
   ]
  },
  {
   "cell_type": "code",
   "execution_count": 26,
   "id": "8aa7141d",
   "metadata": {},
   "outputs": [
    {
     "name": "stdout",
     "output_type": "stream",
     "text": [
      "1\n",
      "2\n",
      "3\n"
     ]
    }
   ],
   "source": [
    "## 덱\n",
    "from collections import deque\n",
    "\n",
    "q = deque()\n",
    "q.append(1)\n",
    "q.append(2)\n",
    "q.append(3)\n",
    "print(q.popleft())\n",
    "print(q.popleft())\n",
    "print(q.popleft())"
   ]
  },
  {
   "cell_type": "code",
   "execution_count": null,
   "id": "697ed5c6",
   "metadata": {},
   "outputs": [],
   "source": []
  }
 ],
 "metadata": {
  "kernelspec": {
   "display_name": "Python 3 (ipykernel)",
   "language": "python",
   "name": "python3"
  },
  "language_info": {
   "codemirror_mode": {
    "name": "ipython",
    "version": 3
   },
   "file_extension": ".py",
   "mimetype": "text/x-python",
   "name": "python",
   "nbconvert_exporter": "python",
   "pygments_lexer": "ipython3",
   "version": "3.9.13"
  }
 },
 "nbformat": 4,
 "nbformat_minor": 5
}
