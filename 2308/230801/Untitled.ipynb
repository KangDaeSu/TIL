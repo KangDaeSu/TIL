{
 "cells": [
  {
   "cell_type": "code",
   "execution_count": null,
   "id": "0b9ff6fc",
   "metadata": {},
   "outputs": [],
   "source": [
    "[0,4,1,3,1,2,4,1,]을 카운팅 정렬하는 과정"
   ]
  },
  {
   "cell_type": "code",
   "execution_count": null,
   "id": "54bf4f5e",
   "metadata": {},
   "outputs": [],
   "source": [
    "1단계\n",
    "Data에서 각 항목들의 발생 회수를 세고, 정수 항목들로 직접 인덱스 되는 카운트 배열 counts에 저장한다\n",
    "\n",
    "정렬된 집합에서 각 항목의 앞에 위치할 항목의 개수를 반영하기 위해 counts의 원소를 조정\n",
    "counts=[1,3,1,1,2]\n",
    "=> counts=[1,4,5,6,8]\n",
    "for i : 1->4\n",
    "    count[i] += counts[i-1]"
   ]
  },
  {
   "cell_type": "code",
   "execution_count": null,
   "id": "53c368d7",
   "metadata": {},
   "outputs": [],
   "source": [
    "count[1]을 감소시키고 Temp에 1을 삽입한다\n",
    "DATA=[0,4,1,3,1,2,4,1]\n",
    "counts = [1,3,5,6,8]\n",
    "temp = [...1....]\n",
    "for j N-1 -> 0\n",
    "count[DATA[j]]-=1\n",
    "Temp[counts[data[j]]] = data[j]"
   ]
  },
  {
   "cell_type": "code",
   "execution_count": null,
   "id": "cd4f9b23",
   "metadata": {},
   "outputs": [],
   "source": [
    "count[4]를 감소시키고 temp에 4를 삽입한다\n"
   ]
  },
  {
   "cell_type": "code",
   "execution_count": null,
   "id": "79bae1f6",
   "metadata": {},
   "outputs": [],
   "source": [
    "def Counting_Sort(A, B, k)\n",
    "# A [] ----입력배열(0 to k)  DATA\n",
    "# B [] ----정렬된배열   TEMP\n",
    "# C [] ----카운트 배열   COUNTS\n",
    "    C = [0] * (k+1)\n",
    "    for i in range(0, len(A)):\n",
    "        C[A[i]] += 1\n",
    "        \n",
    "    for i in range(a, len(C)):\n",
    "        C[i] += C[i-1]\n",
    "        \n",
    "    for i in range(len(B)-1 , -1, -1):\n",
    "        C[A[i]] -= i\n",
    "        B[C[A[i]]] = A[i]"
   ]
  },
  {
   "cell_type": "code",
   "execution_count": null,
   "id": "766c7959",
   "metadata": {},
   "outputs": [],
   "source": [
    "Baby-gin Game\n",
    "완전 검색\n",
    "- 문제의 해법으로 생각할 수 있는 모든 경우의 수를 나열해보고 확인하는 기법\n",
    "- Brute-force 혹은 generate-and-test 기법이라고도 불리 운다.\n",
    "- 모든 경우의 수를 테스트한 후, 최종 해법을 도출한다.\n",
    "- 일반적으로 경우의 수가 상대적으로 작을 때 유용하다.\n",
    "- 모든 경우의 수를 생성하고 테스트하기 때문에 수행 속도는 느리지만, 해답을 찾아내지 못할 확률이 작다.\n",
    "- 자격검정평가 등에서 주어진 문제를 풀 때, 우선 완전 검색으로 접근하여 해답을 도출한 후, \n",
    "   성능 개선을 위해 다른 알고리즘을 사용하고 해답을 확인하는 것이 바람직.\n",
    "\n",
    "순열\n",
    "for i1 in range(1,4):\n",
    "    for i2 in range(1,4):\n",
    "        if i2 != i1:\n",
    "            for i3 in range(1,4):\n",
    "                if i3 != i1 and i3 != i2:\n",
    "                    print(i1, i2, i3)"
   ]
  },
  {
   "cell_type": "code",
   "execution_count": null,
   "id": "4acc46ae",
   "metadata": {},
   "outputs": [],
   "source": [
    "탐욕 알고리즘\n",
    "- 탐욕 알고리즘은 최적해를 구하는데 사용되는 근시안적인 방법\n",
    "- 여러 경우 중 하나를 결정해야 할 때마다 그 순간에 최적이라고 생각되는 것을\n",
    "  선택해 나가는 방식으로 진행하여 최종적인 해답에 도달\n",
    "- 각 선택의 시점에서 이루어지는 결정은 지역적으로는 최적이지만,\n",
    "  그 선택들을 계속 수집하여 최종적인 해답을 만들었다고 하여, 그것이 최적이라는 보장은 없음\n",
    "\n",
    "num = 456789 #Baby Gin 확인할 6자리 수\n",
    "c = [0] * 12 # 6자리 수로부터 각 자리 수를 추출하여 개수를 누적할 리스트\n",
    "for i in range(6):\n",
    "    c[num % 10] += 1\n",
    "    num //= 10"
   ]
  }
 ],
 "metadata": {
  "kernelspec": {
   "display_name": "Python 3 (ipykernel)",
   "language": "python",
   "name": "python3"
  },
  "language_info": {
   "codemirror_mode": {
    "name": "ipython",
    "version": 3
   },
   "file_extension": ".py",
   "mimetype": "text/x-python",
   "name": "python",
   "nbconvert_exporter": "python",
   "pygments_lexer": "ipython3",
   "version": "3.9.13"
  }
 },
 "nbformat": 4,
 "nbformat_minor": 5
}
