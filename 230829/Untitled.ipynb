{
 "cells": [
  {
   "cell_type": "code",
   "execution_count": null,
   "id": "1997dfd4",
   "metadata": {},
   "outputs": [],
   "source": [
    "# 명제\n",
    " - 참이나 거짓을 알 수 있는 식이나 문장\n",
    " - p, q, r, ..로 표현\n",
    "\n",
    "# 진리값\n",
    " - 참이나 거짓을 표현\n",
    " - T, F 또는 1, 0\n",
    "\n",
    "# 연산\n",
    " - 부정 NOT\n",
    "    - p가 명제 일 때, 명제의 진리값이 반대\n",
    "    - ~p 또는 ㄱp로 표기 (not p 또는 p의 부정으로 읽음)\n",
    "    \n",
    " - 논리곱 AND\n",
    "    - p, q가 명제일 때, p, q 모두 참일 때만 참이 되는 명제\n",
    "    - p ^ q(p and q, p 그리고 q)\n",
    "    \n",
    " - 논리합 OR\n",
    "    - p, q 가 명제일 때, p, q 모두 거짓일 때만 거짓이 되는 명제\n",
    "    - p V q (p or q, p 또는 q)\n",
    "    \n",
    " - 배타적 논리합 XOR\n",
    "    - p, q가 명제일 때, p, q 중 하나만 참일 때 참이 되는 명제\n",
    "    - p q (p xor q)\n",
    "    \n",
    " - "
   ]
  },
  {
   "cell_type": "code",
   "execution_count": null,
   "id": "1e8abb5a",
   "metadata": {},
   "outputs": [],
   "source": [
    "# 논리 연습\n",
    "1) 만약 0이 홀수라면, 미국에서 2080년 월드컵이 열린다.\n",
    "    F                        T                         => T\n",
    "2) 만약 198938279382748939이 Prime Number라면, 2는 짝수이다.\n",
    "    ?                                             T          => T\n"
   ]
  }
 ],
 "metadata": {
  "kernelspec": {
   "display_name": "Python 3 (ipykernel)",
   "language": "python",
   "name": "python3"
  },
  "language_info": {
   "codemirror_mode": {
    "name": "ipython",
    "version": 3
   },
   "file_extension": ".py",
   "mimetype": "text/x-python",
   "name": "python",
   "nbconvert_exporter": "python",
   "pygments_lexer": "ipython3",
   "version": "3.9.13"
  }
 },
 "nbformat": 4,
 "nbformat_minor": 5
}
