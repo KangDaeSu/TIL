{
 "cells": [
  {
   "cell_type": "markdown",
   "id": "1c9f214e",
   "metadata": {},
   "source": [
    "## 08 21"
   ]
  },
  {
   "cell_type": "code",
   "execution_count": 15,
   "id": "c4b3475b",
   "metadata": {},
   "outputs": [],
   "source": [
    "# <input>\n",
    "N = 13\n",
    "s = '1 2 1 3 2 4 3 5 3 6 4 7 5 8 5 9 6 10 6 11 7 12 11 13'"
   ]
  },
  {
   "cell_type": "code",
   "execution_count": null,
   "id": "9218b3dc",
   "metadata": {},
   "outputs": [],
   "source": [
    "# tree 연습 1\n",
    "\n",
    "lst = list(map(int, s.split()))\n",
    "G = [[0] for _ in range(N+1)]\n",
    "\n",
    "for i in range(0, len(lst), 2):\n",
    "    p = lst[i]\n",
    "    c = lst[i+1]\n",
    "    G[p].append(c)\n",
    "print(G)"
   ]
  },
  {
   "cell_type": "code",
   "execution_count": 5,
   "id": "78df3124",
   "metadata": {},
   "outputs": [
    {
     "name": "stdout",
     "output_type": "stream",
     "text": [
      "[[0], [0, 2, 3], [0, 4], [0, 5, 6], [0, 7], [0, 8, 9], [0, 10, 11], [0, 12], [0], [0], [0], [0, 13], [0], [0]]\n"
     ]
    }
   ],
   "source": [
    "# tree 연습 2\n",
    "\n",
    "lst = list(map(int, s.split()))\n",
    "\n",
    "TREE = [[0, 0] for _ in range(N+1)]\n",
    "for i in range(0, len(lst), 2):\n",
    "    p = lst[i]\n",
    "    c = lst[i+1]\n",
    "    if TREE[p][0] == 0:       # 왼쪽이 비어있으면:\n",
    "        TREE[p][0] = c\n",
    "    else:\n",
    "        TREE[p][1] = c\n",
    "        "
   ]
  },
  {
   "cell_type": "code",
   "execution_count": 6,
   "id": "a5836af3",
   "metadata": {},
   "outputs": [
    {
     "name": "stdout",
     "output_type": "stream",
     "text": [
      "[0, 0, 1, 1, 2, 3, 3, 4, 5, 5, 6, 6, 7, 11]\n",
      "[0, 2, 4, 5, 7, 8, 10, 12, 0, 0, 0, 13, 0, 0]\n",
      "[0, 3, 0, 6, 0, 9, 11, 0, 0, 0, 0, 0, 0, 0]\n"
     ]
    }
   ],
   "source": [
    "# tree 연습 3\n",
    "\n",
    "lst = list(map(int, s.split()))\n",
    "G = [[0] for _ in range(N+1)]\n",
    "\n",
    "cl = [0] * (N+1)\n",
    "cr = [0] * (N+1)\n",
    "pn = [0] * (N+1)   # 부모노드\n",
    "for i in range(0, len(lst), 2):\n",
    "    p = lst[i]\n",
    "    c = lst[i+1]\n",
    "    pn[c] = p\n",
    "    if cl[p] == 0:\n",
    "        cl[p] = c\n",
    "    else:\n",
    "        cr[p] = c\n",
    "        \n",
    "print(pn)    # 각 노드의 부모 return\n",
    "print(cl)\n",
    "print(cr)\n",
    "\n"
   ]
  },
  {
   "cell_type": "code",
   "execution_count": null,
   "id": "07fefe6e",
   "metadata": {},
   "outputs": [],
   "source": [
    "# tree 연습 4\n",
    "\n",
    "lst = list(map(int, s.split()))\n",
    "G = [[0] for _ in range(N+1)]\n",
    "TREE = [[0, 0, 0] for _ in range(N+1)]\n",
    "\n",
    "cl = [0] * (N+1)\n",
    "cr = [0] * (N+1)\n",
    "pn = [0] * (N+1)   # 부모노드\n",
    "for i in range(0, len(lst), 2):\n",
    "    p = lst[i]\n",
    "    c = lst[i+1]\n",
    "    pn[c] = p\n",
    "    if TREE[p] == 0:\n",
    "        TREE[p] = c\n",
    "    else:\n",
    "        TREE[p] = c\n",
    "    Tree[c][2] = p\n",
    "        \n",
    "print(pn)    # 각 노드의 부모 return\n",
    "print(cl)\n",
    "print(cr)"
   ]
  },
  {
   "cell_type": "code",
   "execution_count": null,
   "id": "aa83a145",
   "metadata": {},
   "outputs": [],
   "source": []
  },
  {
   "cell_type": "markdown",
   "id": "23eff810",
   "metadata": {},
   "source": [
    "### 순회"
   ]
  },
  {
   "cell_type": "code",
   "execution_count": 7,
   "id": "794f9bf0",
   "metadata": {},
   "outputs": [],
   "source": [
    "# 샘플\n",
    "def print_tree(root):      # 재귀 -> 빠져나갈곳이 필요\n",
    "    print_tree()    # root의 왼쪽 서브트리의 root\n",
    "    print(root)\n",
    "    print_tree()     # root의 왼쪽 서브트리의 root\n",
    "    \n",
    "    \n",
    "    \n",
    "lst = list(map(int, s.split()))\n",
    "G = [[0] for _ in range(N+1)]\n",
    "\n",
    "cl = [0] * (N+1)\n",
    "cr = [0] * (N+1)\n",
    "pn = [0] * (N+1)   # 부모노드\n",
    "for i in range(0, len(lst), 2):\n",
    "    p = lst[i]\n",
    "    c = lst[i+1]\n",
    "    pn[c] = p\n",
    "    if cl[p] == 0:\n",
    "        cl[p] = c\n",
    "    else:\n",
    "        cr[p] = c"
   ]
  },
  {
   "cell_type": "code",
   "execution_count": 11,
   "id": "e97ca8a4",
   "metadata": {},
   "outputs": [],
   "source": [
    "# 예제 1\n",
    "def print_tree1(root):      # 재귀 -> 빠져나갈곳이 필요\n",
    "    if cl[root]:      # 왼쪽이 tree 이면:\n",
    "        print_tree1(cl[root])    # root의 왼쪽 서브트리의 root\n",
    "        \n",
    "    print(root)\n",
    "    \n",
    "    if cr[root]:       # 오른쪽이 tree 이면:\n",
    "        print_tree1(cr[root])     # root의 왼쪽 서브트리의 root\n",
    "    \n"
   ]
  },
  {
   "cell_type": "code",
   "execution_count": null,
   "id": "3616bea2",
   "metadata": {},
   "outputs": [],
   "source": [
    "# 예제 2  -  강의자료 코드\n",
    "\n",
    "def print_tree2(root):\n",
    "    if root:\n",
    "        print_tree2(cl[root])   # 왼쪽\n",
    "        print(root)\n",
    "        print_tree2(cr[root])     # 오른쪽\n",
    "        \n",
    "        "
   ]
  },
  {
   "cell_type": "code",
   "execution_count": 13,
   "id": "c36f7aa2",
   "metadata": {},
   "outputs": [],
   "source": [
    "# 예제 3 - preorder\n",
    "\n",
    "def pre_order(root):\n",
    "    print(root)\n",
    "    if TREE[root][0]:\n",
    "        pre_order(TREE[root][0])     # 왼쪽\n",
    "        pre_order(TREE[root][1])     # 오른쪽\n",
    "    \n",
    "\n",
    "lst = list(map(int, s.split()))\n",
    "G = [[0] for _ in range(N+1)]\n",
    "TREE = [[0, 0, 0] for _ in range(N+1)]\n",
    "\n",
    "cl = [0] * (N+1)\n",
    "cr = [0] * (N+1)\n",
    "pn = [0] * (N+1)   # 부모노드\n",
    "for i in range(0, len(lst), 2):\n",
    "    p = lst[i]\n",
    "    c = lst[i+1]\n",
    "    pn[c] = p\n",
    "    if TREE[p] == 0:\n",
    "        TREE[p] = c\n",
    "    else:\n",
    "        TREE[p] = c\n",
    "    TREE[c][2] = p"
   ]
  },
  {
   "cell_type": "code",
   "execution_count": 16,
   "id": "dec9b44d",
   "metadata": {},
   "outputs": [],
   "source": [
    "# 예제 3 - postorder\n",
    "\n",
    "def post_order(root):\n",
    "    \n",
    "    if len(G[root]) >= 1:\n",
    "        post_order(G[root][0])\n",
    "        \n",
    "    if len(G[root]) >= 2:\n",
    "        post_order(G[root][1]) \n",
    "    \n",
    "    print(root)\n",
    "    \n",
    "    \n",
    "    \n",
    "G = [[0] for _ in range(N+1)]\n",
    "lst = list(map(int, s.split()))\n",
    "\n",
    "for i in range(0, len(lst), 2):\n",
    "    p = lst[i]\n",
    "    c = lst[i+1]\n",
    "    G[p].append(c)"
   ]
  },
  {
   "cell_type": "code",
   "execution_count": null,
   "id": "c254dfa4",
   "metadata": {},
   "outputs": [],
   "source": []
  },
  {
   "cell_type": "markdown",
   "id": "a04f1efa",
   "metadata": {},
   "source": [
    "## 0822"
   ]
  },
  {
   "attachments": {
    "image.png": {
     "image/png": "[encoded data removed]"
    }
   },
   "cell_type": "markdown",
   "id": "feed931e",
   "metadata": {},
   "source": [
    "![image.png](attachment:image.png)"
   ]
  },
  {
   "cell_type": "code",
   "execution_count": 12,
   "id": "05e3f553",
   "metadata": {},
   "outputs": [],
   "source": [
    "# 이진탐색 트리, 연산\n",
    "\n",
    "def find(key):\n",
    "    pos = 1\n",
    "    while TREE[pos] != 0:\n",
    "        if TREE[pos] == key:\n",
    "            return pos\n",
    "        if TREE[pos] < key:\n",
    "            pos = pos * 2 + 1\n",
    "        else:\n",
    "            pos = pos * 2\n",
    "            \n",
    "    return -1\n",
    "            \n",
    "TREE = [0, 9, 4, 12, 3, 6, 0, 15, 0, 0, 0, 0, 0, 0, 13, 17 ]\n",
    "TREE = TREE + [0] * 100\n",
    "\n"
   ]
  },
  {
   "cell_type": "code",
   "execution_count": 5,
   "id": "5dd8673a",
   "metadata": {},
   "outputs": [
    {
     "name": "stdout",
     "output_type": "stream",
     "text": [
      "14\n",
      "1\n",
      "15\n",
      "-1\n",
      "-1\n",
      "-1\n"
     ]
    }
   ],
   "source": [
    "print(find(13))\n",
    "print(find(9))\n",
    "print(find(17))\n",
    "print(find(5))\n",
    "print(find(28))\n",
    "print(find(7))"
   ]
  },
  {
   "cell_type": "code",
   "execution_count": null,
   "id": "8ecef152",
   "metadata": {},
   "outputs": [],
   "source": []
  },
  {
   "cell_type": "code",
   "execution_count": 13,
   "id": "5b4556be",
   "metadata": {},
   "outputs": [],
   "source": [
    "# 입력이 가능하면 입력 후 pos return, 이미 있어서 불가능하면 -1을 return\n",
    "\n",
    "def insert(key):\n",
    "    pos = 1\n",
    "    while TREE[pos] != 0:\n",
    "        if TREE[pos] == key:\n",
    "            return -1\n",
    "        if TREE[pos] < key:\n",
    "            pos = pos * 2 + 1\n",
    "        else:\n",
    "            pos = pos * 2\n",
    "        \n",
    "    TREE[pos] = key\n",
    "    return pos\n",
    "            \n",
    "TREE = [0, 9, 4, 12, 3, 6, 0, 15, 0, 0, 0, 0, 0, 0, 13, 17 ]\n",
    "TREE = TREE + [0] * 100\n"
   ]
  },
  {
   "cell_type": "code",
   "execution_count": 11,
   "id": "ce7c3824",
   "metadata": {},
   "outputs": [
    {
     "name": "stdout",
     "output_type": "stream",
     "text": [
      "-1\n",
      "-1\n",
      "-1\n",
      "5\n",
      "28\n",
      "7\n"
     ]
    }
   ],
   "source": [
    "print(insert(13))\n",
    "print(insert(9))\n",
    "print(insert(17))\n",
    "print(insert(5))\n",
    "print(insert(28))\n",
    "print(insert(7))"
   ]
  },
  {
   "cell_type": "code",
   "execution_count": 14,
   "id": "d6f0bc5c",
   "metadata": {},
   "outputs": [
    {
     "name": "stdout",
     "output_type": "stream",
     "text": [
      "[0, 9, 4, 12, 3, 6, 0, 15, 0, 0, 0, 0, 0, 0, 13, 17, 0, 0, 0, 0, 0, 0, 0, 0, 0, 0, 0, 0, 0, 0, 0, 0, 0, 0, 0, 0, 0, 0, 0, 0, 0, 0, 0, 0, 0, 0, 0, 0, 0, 0, 0, 0, 0, 0, 0, 0, 0, 0, 0, 0, 0, 0, 0, 0, 0, 0, 0, 0, 0, 0, 0, 0, 0, 0, 0, 0, 0, 0, 0, 0, 0, 0, 0, 0, 0, 0, 0, 0, 0, 0, 0, 0, 0, 0, 0, 0, 0, 0, 0, 0, 0, 0, 0, 0, 0, 0, 0, 0, 0, 0, 0, 0, 0, 0, 0, 0]\n",
      "[0, 9, 4, 12, 3, 6, 0, 15, 0, 0, 5, 0, 0, 0, 13, 17, 0, 0, 0, 0, 0, 0, 0, 0, 0, 0, 0, 0, 0, 0, 0, 0, 0, 0, 0, 0, 0, 0, 0, 0, 0, 0, 0, 0, 0, 0, 0, 0, 0, 0, 0, 0, 0, 0, 0, 0, 0, 0, 0, 0, 0, 0, 0, 0, 0, 0, 0, 0, 0, 0, 0, 0, 0, 0, 0, 0, 0, 0, 0, 0, 0, 0, 0, 0, 0, 0, 0, 0, 0, 0, 0, 0, 0, 0, 0, 0, 0, 0, 0, 0, 0, 0, 0, 0, 0, 0, 0, 0, 0, 0, 0, 0, 0, 0, 0, 0]\n",
      "[0, 9, 4, 12, 3, 6, 0, 15, 0, 0, 5, 7, 0, 0, 13, 17, 0, 0, 0, 0, 0, 0, 0, 0, 0, 0, 0, 0, 0, 0, 0, 0, 0, 0, 0, 0, 0, 0, 0, 0, 0, 0, 0, 0, 0, 0, 0, 0, 0, 0, 0, 0, 0, 0, 0, 0, 0, 0, 0, 0, 0, 0, 0, 0, 0, 0, 0, 0, 0, 0, 0, 0, 0, 0, 0, 0, 0, 0, 0, 0, 0, 0, 0, 0, 0, 0, 0, 0, 0, 0, 0, 0, 0, 0, 0, 0, 0, 0, 0, 0, 0, 0, 0, 0, 0, 0, 0, 0, 0, 0, 0, 0, 0, 0, 0, 0]\n",
      "[0, 9, 4, 12, 3, 6, 0, 15, 0, 0, 5, 7, 0, 0, 13, 17, 0, 0, 0, 0, 0, 0, 0, 0, 0, 0, 0, 0, 0, 0, 0, 0, 0, 0, 0, 0, 0, 0, 0, 0, 0, 0, 0, 0, 0, 0, 0, 0, 0, 0, 0, 0, 0, 0, 0, 0, 0, 0, 0, 0, 0, 0, 0, 0, 0, 0, 0, 0, 0, 0, 0, 0, 0, 0, 0, 0, 0, 0, 0, 0, 0, 0, 0, 0, 0, 0, 0, 0, 0, 0, 0, 0, 0, 0, 0, 0, 0, 0, 0, 0, 0, 0, 0, 0, 0, 0, 0, 0, 0, 0, 0, 0, 0, 0, 0, 0]\n"
     ]
    }
   ],
   "source": [
    "## 선형트리\n",
    "\n",
    "insert(9)\n",
    "print(TREE)\n",
    "insert(5)\n",
    "print(TREE)\n",
    "insert(7)\n",
    "print(TREE)\n",
    "insert(4)\n",
    "print(TREE)\n"
   ]
  },
  {
   "cell_type": "markdown",
   "id": "271fc39f",
   "metadata": {},
   "source": [
    "## heap"
   ]
  },
  {
   "cell_type": "code",
   "execution_count": 18,
   "id": "705794d1",
   "metadata": {},
   "outputs": [
    {
     "name": "stdout",
     "output_type": "stream",
     "text": [
      "[3, 5, 30, 20, 10]\n",
      "3\n",
      "[5, 10, 30, 20]\n"
     ]
    }
   ],
   "source": [
    "import heapq\n",
    "\n",
    "# push\n",
    "heap = []        # \n",
    "heapq.heappush(heap, 10)\n",
    "heapq.heappush(heap, 20)\n",
    "heapq.heappush(heap, 30)\n",
    "heapq.heappush(heap, 5)\n",
    "heapq.heappush(heap, 3)\n",
    "\n",
    "print(heap)\n",
    "\n",
    "# pop\n",
    "item = heapq.heappop(heap)\n",
    "print(item)\n",
    "print(heap)   # pop 하고 자동 정렬\n"
   ]
  },
  {
   "cell_type": "code",
   "execution_count": 26,
   "id": "44cabb31",
   "metadata": {},
   "outputs": [
    {
     "name": "stdout",
     "output_type": "stream",
     "text": [
      "[0, 33, 32, 27, 21, 31, 18, 23, 14, 19, 22, 0, 0, 0, 0, 0, 0, 0, 0, 0, 0, 0, 0, 0, 0, 0, 0, 0, 0, 0, 0, 0, 0, 0, 0, 0, 0, 0, 0, 0, 0, 0, 0, 0, 0, 0, 0, 0, 0, 0, 0, 0, 0, 0, 0, 0, 0, 0, 0, 0, 0, 0, 0, 0, 0, 0, 0, 0, 0, 0, 0, 0, 0, 0, 0, 0, 0, 0, 0, 0, 0, 0, 0, 0, 0, 0, 0, 0, 0, 0, 0, 0, 0, 0, 0, 0, 0, 0, 0, 0, 0, 0, 0, 0, 0, 0, 0, 0, 0, 0]\n"
     ]
    }
   ],
   "source": [
    "## 트리 실제 구현 코드\n",
    "\n",
    "def insert(item):\n",
    "    global last\n",
    "    last += 1\n",
    "    HEAP[last] = item\n",
    "    c = last\n",
    "    while c > 1:\n",
    "        p = c // 2\n",
    "        if HEAP[p] < HEAP[c]:\n",
    "            HEAP[p], HEAP[c] = HEAP[c], HEAP[p]\n",
    "            c = p\n",
    "        else:\n",
    "            break\n",
    "    \n",
    "HEAP = [0,33,31,27,21,22,18,23,14,19] + [0]*100\n",
    "last = 9\n",
    "insert(32)\n",
    "\n",
    "print(HEAP)"
   ]
  },
  {
   "cell_type": "code",
   "execution_count": 31,
   "id": "73518b99",
   "metadata": {},
   "outputs": [
    {
     "name": "stdout",
     "output_type": "stream",
     "text": [
      "33\n"
     ]
    }
   ],
   "source": [
    "def pop():\n",
    "    global last\n",
    "    \n",
    "    result = HEAP[1]  # pop 될 노드\n",
    "    HEAP[1] = HEAP[last]\n",
    "    last -= 1\n",
    "    \n",
    "    p = 1\n",
    "    c = p*2\n",
    "    \n",
    "    while c <= last:\n",
    "        if c+1 <= last and HEAP[c] < HEAP[c+1]:    # 왼쪽과 오른쪽을 비교 / 하나 넣어놓고 토팅\n",
    "            c += 1\n",
    "        if HEAP[p] < HEAP[c]:\n",
    "            HEAP[c], HEAP[p] =  HEAP[p], HEAP[c]\n",
    "            p = c\n",
    "            c = p*2\n",
    "        else:\n",
    "            break\n",
    "        \n",
    "        \n",
    "    return result\n",
    "    \n",
    "    \n",
    "    \n",
    "HEAP = [0,33,31,27,21,22,18,23,14,19] + [0]*100\n",
    "last = 9\n",
    "print(pop())"
   ]
  },
  {
   "cell_type": "code",
   "execution_count": null,
   "id": "cbc8aa52",
   "metadata": {},
   "outputs": [],
   "source": []
  },
  {
   "cell_type": "code",
   "execution_count": null,
   "id": "1d7d8a37",
   "metadata": {},
   "outputs": [],
   "source": [
    "def pop():\n",
    "    global last\n",
    "    \n",
    "    result = HEAP[1]  # pop 될 노드\n",
    "    HEAP[1] = HEAP[last]\n",
    "    last -= 1\n",
    "    \n",
    "    p = 1\n",
    "    while c <= last:\n",
    "        c = p * 2\n",
    "        if c+1 <= last and HEAP[c] < HEAP[c+1]:    # 왼쪽과 오른쪽을 비교 / 하나 넣어놓고 토팅\n",
    "            c += 1\n",
    "        if HEAP[p] < HEAP[c]:\n",
    "            HEAP[c], HEAP[p] =  HEAP[p], HEAP[c]\n",
    "            p = c\n",
    "        else:\n",
    "            break\n",
    "        \n",
    "        \n",
    "    return result\n",
    "    \n",
    "    \n",
    "    \n",
    "HEAP = [0,33,31,27,21,22,18,23,14,19] + [0]*100\n",
    "last = 9\n",
    "print(pop())"
   ]
  },
  {
   "cell_type": "code",
   "execution_count": null,
   "id": "6a7b4c7b",
   "metadata": {},
   "outputs": [],
   "source": [
    "## 트리 실제 구현 코드\n",
    "\n",
    "def insert(item):\n",
    "    global last\n",
    "    \n",
    "    last += 1\n",
    "    HEAP[last] = item\n",
    "    c = last\n",
    "    while c > 1:\n",
    "        p = c // 2\n",
    "        if HEAP[p] < HEAP[c]:\n",
    "            HEAP[p], HEAP[c] = HEAP[c], HEAP[p]\n",
    "            c = p\n",
    "        else:\n",
    "            break\n",
    "    \n",
    "HEAP = [0,33,31,27,21,22,18,23,14,19] + [0]*100\n",
    "last = 9\n",
    "insert(32)\n",
    "\n",
    "print(HEAP)"
   ]
  },
  {
   "cell_type": "code",
   "execution_count": null,
   "id": "c75fef1b",
   "metadata": {},
   "outputs": [],
   "source": []
  },
  {
   "cell_type": "code",
   "execution_count": null,
   "id": "6d9f92fa",
   "metadata": {},
   "outputs": [],
   "source": []
  },
  {
   "cell_type": "code",
   "execution_count": null,
   "id": "37818023",
   "metadata": {},
   "outputs": [],
   "source": []
  },
  {
   "cell_type": "code",
   "execution_count": null,
   "id": "afbf1d1c",
   "metadata": {},
   "outputs": [],
   "source": []
  },
  {
   "cell_type": "code",
   "execution_count": null,
   "id": "9b22f3df",
   "metadata": {},
   "outputs": [],
   "source": []
  },
  {
   "cell_type": "code",
   "execution_count": null,
   "id": "95c980e2",
   "metadata": {},
   "outputs": [],
   "source": []
  },
  {
   "cell_type": "code",
   "execution_count": null,
   "id": "b2c726f1",
   "metadata": {},
   "outputs": [],
   "source": []
  }
 ],
 "metadata": {
  "kernelspec": {
   "display_name": "Python 3 (ipykernel)",
   "language": "python",
   "name": "python3"
  },
  "language_info": {
   "codemirror_mode": {
    "name": "ipython",
    "version": 3
   },
   "file_extension": ".py",
   "mimetype": "text/x-python",
   "name": "python",
   "nbconvert_exporter": "python",
   "pygments_lexer": "ipython3",
   "version": "3.9.13"
  }
 },
 "nbformat": 4,
 "nbformat_minor": 5
}
