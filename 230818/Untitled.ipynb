{
 "cells": [
  {
   "cell_type": "code",
   "execution_count": null,
   "id": "7c85e278",
   "metadata": {},
   "outputs": [],
   "source": [
    "## BFS\n",
    "\n",
    "def BFS(G, v): # 그래프 G, 탐색 시작점 v\n",
    "    visited = [0] * (n+1) # n : 정점의 개수\n",
    "    queue = [] # 큐 생성\n",
    "    queue.append(v) # 시작점 v를 큐에 삽입\n",
    "    while queue: # 큐가 비어있지 않은 경우\n",
    "        t = queue.pop(0) # 큐의 첫번째 원소 반환\n",
    "        if not visited[t]: # 방문되지 않은 곳이라면\n",
    "            visited[t] = True # 방문한 것으로 표시\n",
    "            visit(t) # 정점 t에서 할 일\n",
    "            for i in G[t]: # t와 연결된 모든 정점에 대해\n",
    "                if not visited[i]: # 방문되지 않은 곳이라면\n",
    "                    queue.append(i) # 큐에 넣기"
   ]
  },
  {
   "cell_type": "code",
   "execution_count": null,
   "id": "e774d8f9",
   "metadata": {},
   "outputs": [],
   "source": [
    "def BFS(G, v, n): # 그래프 G, 탐색 시작점 v\n",
    "    visited = [0] * (n+1) # n : 정점의 개수\n",
    "    queue = [] # 큐 생성\n",
    "    queue.append(v) # 시작점 v를 큐에 삽입\n",
    "    visited[v] = 1 \n",
    "    while queue: # 큐가 비어 있지 않은 경우\n",
    "        t = queue.pop(0) # 큐의 첫번째 원소 반환\n",
    "        visit(t)\n",
    "        for i in G[t]: # t와 연결된 모든 정점에 대해\n",
    "            if not visited[i]: # 방문되지 않은 곳이라면\n",
    "                queue.append(i) # 큐에 넣기\n",
    "                visited[i] = visited[n] + 1 # n으로부터 1만큼 이동"
   ]
  },
  {
   "cell_type": "code",
   "execution_count": 5,
   "id": "a4591c46",
   "metadata": {},
   "outputs": [
    {
     "ename": "IndentationError",
     "evalue": "expected an indented block (3409980580.py, line 12)",
     "output_type": "error",
     "traceback": [
      "\u001b[1;36m  Cell \u001b[1;32mIn[5], line 12\u001b[1;36m\u001b[0m\n\u001b[1;33m    V, E = map(int, input().split())\u001b[0m\n\u001b[1;37m    ^\u001b[0m\n\u001b[1;31mIndentationError\u001b[0m\u001b[1;31m:\u001b[0m expected an indented block\n"
     ]
    }
   ],
   "source": [
    "## 예제\n",
    "'''\n",
    "7 8\n",
    "2 4 1 2 1 3 2 5 4 6 5 6 6 7 3 7\n",
    "'''\n",
    "def bfs(s, V): # 시작정점 : s, 마지막 정점: V\n",
    "    visited = [0] * (V+1) # visited 생성\n",
    "    q = [] # 큐 생성\n",
    "    q.append(s) # 시작점 인큐\n",
    "    visited[s] = 1 # 시작점 방문표시\n",
    "    while q: # 큐에 정점이 남아 있으면 front != rear\n",
    "        t = q.pop(0) # 디큐\n",
    "        print(t) # 방문한 정점에서 할일\n",
    "        for w in adj_l[t]: # 인접한 정점 중 인큐되지 않은 정점w가 있으면\n",
    "            if visited[w] == 0:\n",
    "                q.append(w) # w인큐, 인큐되었음을 표시\n",
    "                visited[w] = visited[t] + 1\n",
    "        \n",
    "\n",
    "V, E = map(int, input().split())\n",
    "arr = list(map(int, input().split()))\n",
    "# 인접 리스트\n",
    "adj_l = [[] for _ in range(V+1)]\n",
    "for i in range(E):\n",
    "    v1, v2 = arr[i*2], arr[i*2+1]\n",
    "    adj_l[v1].append(v2)\n",
    "    adj_l[v2].append(v1) # 방향이 없는 경우\n",
    "# 여기까지 인접 리스트\n",
    "bfs(1, 7)"
   ]
  },
  {
   "cell_type": "code",
   "execution_count": null,
   "id": "de81c3e6",
   "metadata": {},
   "outputs": [],
   "source": [
    "'''\n",
    "7 8\n",
    "4 2 1 2 1 3 5 2 4 6 5 6 6 7 3 7\n",
    "'''\n",
    "def bfs(s, V): # 시작정점 : s, 마지막 정점: V\n",
    "    visited = [0] * (V+1) # visited 생성\n",
    "    q = [] # 큐 생성\n",
    "    q.append(s) # 시작점 인큐\n",
    "    visited[s] = 1 # 시작점 방문표시\n",
    "    while q: # 큐에 정점이 남아 있으면 front != rear\n",
    "        t = q.pop(0) # 디큐\n",
    "        print(t) # 방문한 정점에서 할일\n",
    "        for w in range(1, V+1): # 인접한 정점 중 인큐되지 않은 정점w가 있으면\n",
    "            if adj_m[t][w] == 1 and visited[w] == 0:\n",
    "                q.append(w) # w인큐, 인큐되었음을 표시\n",
    "                visited[w] = visited[t] + 1\n",
    "    print(visited)\n",
    "        \n",
    "\n",
    "V, E = map(int, input().split())\n",
    "arr = list(map(int, input().split()))\n",
    "# 인접 행렬\n",
    "adj_m = [[0]* (V+1) for _ in range(V+1)]\n",
    "for i in range(E):\n",
    "    v1, v2 = arr[i*2], arr[i*2+1]\n",
    "    adj_m[v1][v2] = 1\n",
    "    adj_m[v2][v1] = 1 # 방향이 없는 경우\n",
    "# 여기까지 인접 행렬\n",
    "bfs(1, V)"
   ]
  }
 ],
 "metadata": {
  "kernelspec": {
   "display_name": "Python 3 (ipykernel)",
   "language": "python",
   "name": "python3"
  },
  "language_info": {
   "codemirror_mode": {
    "name": "ipython",
    "version": 3
   },
   "file_extension": ".py",
   "mimetype": "text/x-python",
   "name": "python",
   "nbconvert_exporter": "python",
   "pygments_lexer": "ipython3",
   "version": "3.9.13"
  }
 },
 "nbformat": 4,
 "nbformat_minor": 5
}
