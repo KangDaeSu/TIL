{
 "cells": [
  {
   "cell_type": "code",
   "execution_count": null,
   "id": "fc4b7421",
   "metadata": {},
   "outputs": [],
   "source": [
    "부분집합 생성하기\n",
    " - 완전검색 기법으로 부분집합 합 문제를 풀기 위해서는, \n",
    "    우선 집합의 모든 부분집합을 생성한 후에 각 부분집합의 합을 계산해야 한다.\n",
    " - 주어진 집합의 부분집합을 생성하는 방법에 대해서 생각해보자\n",
    "\n",
    "[1, 2, 3] = {},{1}, {2}, {3}, {1, 2}, {2, 3}, {3, 1}, {1, 2, 3}\n",
    "\n",
    "부분집합의 수\n",
    " - 집합의 원소가 n개일 때, 공집합을 포함한 부분집합의 수는 2**n개이다.\n",
    " - 이는 각 원소를 부분집합에 포함시키거나 포함시키지 않는 2가지 경우를 모든 원소에 적용한 경우의 수와 같다.\n",
    "\n",
    "bit = [0, 0, 0, 0]\n",
    "for i in range(2):\n",
    "    bit[0] = i\n",
    "    for j in range(2):\n",
    "        bit[1] = j\n",
    "        for k in range(2):\n",
    "            bit[2] = k\n",
    "            for l in range(3):\n",
    "                bit[3] = l\n",
    "                print_subset(bit)\n",
    "            \n",
    "def print_subset(bit, arr, n):\n",
    "    total = 0 # 부분집합의 합\n",
    "    "
   ]
  },
  {
   "cell_type": "code",
   "execution_count": null,
   "id": "d1350cfa",
   "metadata": {},
   "outputs": [],
   "source": [
    "def binarySearch(a, N, key):\n",
    "    start = 0\n",
    "    end = N-1\n",
    "    while star<= end:\n",
    "        middle = (start + end)//2\n",
    "        if a [middle] == key:\n",
    "            return true\n",
    "        elif a[middle] > key:\n",
    "            end = middle - 1\n",
    "        else:\n",
    "            start = middle + 1\n",
    "    return"
   ]
  },
  {
   "cell_type": "code",
   "execution_count": null,
   "id": "695add2a",
   "metadata": {},
   "outputs": [],
   "source": [
    "def selectionSort(a, N):\n",
    "    for i in rnage(N-1):\n",
    "        minIdx = 1\n",
    "        for j in range(i+1, N):\n",
    "            if a minIdx > a[j]\n",
    "            minIdx = \n",
    "        a[i], a[minIdx] = a[minIdx], a[i]"
   ]
  }
 ],
 "metadata": {
  "kernelspec": {
   "display_name": "Python 3 (ipykernel)",
   "language": "python",
   "name": "python3"
  },
  "language_info": {
   "codemirror_mode": {
    "name": "ipython",
    "version": 3
   },
   "file_extension": ".py",
   "mimetype": "text/x-python",
   "name": "python",
   "nbconvert_exporter": "python",
   "pygments_lexer": "ipython3",
   "version": "3.9.13"
  }
 },
 "nbformat": 4,
 "nbformat_minor": 5
}
